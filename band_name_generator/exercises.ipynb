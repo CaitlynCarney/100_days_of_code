{
 "cells": [
  {
   "cell_type": "markdown",
   "metadata": {},
   "source": [
    "# Exercise 1\n",
    "print out:\n",
    "\n",
    "```Day 1 - Python Print Function \n",
    "This function is declared like this:\n",
    "print(what to print)```"
   ]
  },
  {
   "cell_type": "code",
   "execution_count": 1,
   "metadata": {},
   "outputs": [
    {
     "name": "stdout",
     "output_type": "stream",
     "text": [
      "Day 1 - Python Print Function \n",
      "This function is declared like this:\n",
      "print(what to print)\n",
      "Day 1 - Python Print Function \n",
      "This function is declared like this:\n",
      "print(what to print)\n"
     ]
    }
   ],
   "source": [
    "import ex_1\n",
    "%run ex_1.py"
   ]
  },
  {
   "cell_type": "markdown",
   "metadata": {},
   "source": [
    "# Exercise 2\n",
    "debug the following code:\n",
    "\n",
    "```print(Day 1 - String Masnipulation\")\n",
    "print(\"String Concatenation is done with the \"+\" sign.\")\n",
    "    print ('e.g. pring(\"Hello\" + \"world\")'\n",
    "print ((\"New lines can be created with a backslash and n.\")```"
   ]
  },
  {
   "cell_type": "code",
   "execution_count": 2,
   "metadata": {},
   "outputs": [
    {
     "name": "stdout",
     "output_type": "stream",
     "text": [
      "Day 1 - String Masnipulation\n",
      "String Concatenation is done with the '+' sign.\n",
      "e.g. pring('Hello' + 'world'\n",
      "New lines can be created with a backslash and n.\n",
      "Day 1 - String Masnipulation\n",
      "String Concatenation is done with the '+' sign.\n",
      "e.g. pring('Hello' + 'world'\n",
      "New lines can be created with a backslash and n.\n"
     ]
    }
   ],
   "source": [
    "import ex_2\n",
    "%run ex_2.py"
   ]
  },
  {
   "cell_type": "markdown",
   "metadata": {},
   "source": [
    "# Exercise 3\n",
    "Write a program that pingt the number of characters in a inputted username."
   ]
  },
  {
   "cell_type": "code",
   "execution_count": 4,
   "metadata": {},
   "outputs": [
    {
     "name": "stdin",
     "output_type": "stream",
     "text": [
      "What is your username?   Angela\n"
     ]
    },
    {
     "name": "stdout",
     "output_type": "stream",
     "text": [
      "6\n"
     ]
    }
   ],
   "source": [
    "import ex_3\n",
    "%run ex_3.py"
   ]
  },
  {
   "cell_type": "code",
   "execution_count": 5,
   "metadata": {},
   "outputs": [
    {
     "name": "stdin",
     "output_type": "stream",
     "text": [
      "What is your username?   Viv\n"
     ]
    },
    {
     "name": "stdout",
     "output_type": "stream",
     "text": [
      "3\n"
     ]
    }
   ],
   "source": [
    "%run ex_3.py"
   ]
  },
  {
   "cell_type": "code",
   "execution_count": 6,
   "metadata": {},
   "outputs": [
    {
     "name": "stdin",
     "output_type": "stream",
     "text": [
      "What is your username?   Rocky Road\n"
     ]
    },
    {
     "name": "stdout",
     "output_type": "stream",
     "text": [
      "10\n"
     ]
    }
   ],
   "source": [
    "%run ex_3.py"
   ]
  },
  {
   "cell_type": "markdown",
   "metadata": {},
   "source": [
    "# Exercise 4\n",
    "Write a program the switches the values stores in the variables a and b."
   ]
  },
  {
   "cell_type": "code",
   "execution_count": 9,
   "metadata": {},
   "outputs": [
    {
     "name": "stdin",
     "output_type": "stream",
     "text": [
      "a:  3\n",
      "b:  5\n"
     ]
    },
    {
     "name": "stdout",
     "output_type": "stream",
     "text": [
      "a : 5\n",
      "b : 3\n"
     ]
    }
   ],
   "source": [
    "import ex_4\n",
    "%run ex_4.py"
   ]
  },
  {
   "cell_type": "code",
   "execution_count": null,
   "metadata": {},
   "outputs": [],
   "source": []
  }
 ],
 "metadata": {
  "kernelspec": {
   "display_name": "Python 3",
   "language": "python",
   "name": "python3"
  },
  "language_info": {
   "codemirror_mode": {
    "name": "ipython",
    "version": 3
   },
   "file_extension": ".py",
   "mimetype": "text/x-python",
   "name": "python",
   "nbconvert_exporter": "python",
   "pygments_lexer": "ipython3",
   "version": "3.8.5"
  }
 },
 "nbformat": 4,
 "nbformat_minor": 4
}
